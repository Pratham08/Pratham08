{
 "cells": [
  {
   "cell_type": "code",
   "execution_count": 15,
   "metadata": {
    "scrolled": false
   },
   "outputs": [],
   "source": [
    "from selenium import webdriver\n",
    "from selenium.webdriver.common.keys import Keys\n",
    "from selenium.webdriver.common.by import By\n",
    "from selenium.webdriver.support.ui import WebDriverWait\n",
    "from selenium.webdriver.support import expected_conditions as EC\n",
    "\n",
    "class autologin:\n",
    "    def __init__(self,email,pwd):\n",
    "        self.email = email\n",
    "        self.pwd = pwd\n",
    "        \n",
    "    def login_codetantra(self):\n",
    "        try:\n",
    "            web_addr = 'https://iitg.codetantra.com/login.jsp'\n",
    "            #setting up the webdriver\n",
    "            driver = webdriver.Chrome()\n",
    "            driver.get(web_addr)\n",
    "            #entering email address\n",
    "            email_input = driver.find_element_by_name('loginId')\n",
    "            email_input.clear()\n",
    "            email_input.send_keys(self.email)\n",
    "            #entering password\n",
    "            pwd_input = driver.find_element_by_name('password')\n",
    "            pwd_input.clear()\n",
    "            pwd_input.send_keys(self.pwd)\n",
    "            #submitting the password\n",
    "            submit_button = driver.find_element_by_id('loginBtn')\n",
    "            submit_button.send_keys(Keys.ENTER)\n",
    "        except NoSuchElementException:\n",
    "            print('element tag not visible')\n",
    "        except TimeoutException:    \n",
    "            print('website too much time to load')\n",
    "            \n",
    "    def login_outlook(self):\n",
    "        driver = webdriver.Chrome()\n",
    "        driver.get('https://login.microsoftonline.com/common/oauth2/authorize?client_id=00000002-0000-0ff1-ce00-000000000000&redirect_uri=https%3a%2f%2foutlook.office365.com%2fowa%2f&resource=00000002-0000-0ff1-ce00-000000000000&response_mode=form_post&response_type=code+id_token&scope=openid&msafed=0&client-request-id=3ec711ae-ca65-4e02-95ad-4ab3c78044c6&protectedtoken=true&claims=%7b%22id_token%22%3a%7b%22xms_cc%22%3a%7b%22values%22%3a%5b%22CP1%22%5d%7d%7d%7d&nonce=637576973844091608.f28f45ca-a7d5-4da1-9405-f37b4b5cc146&state=DYu9DoIwGEWLvotbpS39oQNxMFEG0ARJNGz9WkggEggQVJ7eDuee4eYECKG9Z-cJiB-kZKSEklpFMedEU0niY8PihgtrsFFOYO4MxZoTgZtIAQdhLeUy8C2Ew8eEJ7gn9DAvZqm9p9q1U22XckhMWhCb5jL76dW9ihmYnrJe91X_7qoyZ7eH6ICRFZ6XEc7a_26EVgzuSuds0225ke8f&sso_reload=true')\n",
    "        try:\n",
    "            driver.implicitly_wait(5)\n",
    "            email_input = driver.find_element_by_name('loginfmt') \n",
    "            email_input.clear()\n",
    "            email_input.send_keys(self.email)\n",
    "            submit_button1 = driver.find_element_by_id('idSIButton9')\n",
    "            submit_button1.send_keys(Keys.ENTER)\n",
    "            #explicit wait for the pwd element to appear\n",
    "            pwd_input = driver.find_element_by_name('passwd')\n",
    "            pwd_input.clear()\n",
    "            pwd_input.send_keys(self.pwd)\n",
    "            driver.implicitly_wait(3)\n",
    "            submit_button2 = driver.find_element_by_id('idSIButton9')\n",
    "            submit_button2.send_keys(Keys.ENTER)\n",
    "        finally:   \n",
    "            print('Something went wrong dude!!')    \n",
    "your_name= autologin('','')\n",
    "#email in first and password in second\n",
    "#your_name.login_outlook()\n",
    "#your_name.login_codetantra()"
   ]
  }
 ],
 "metadata": {
  "kernelspec": {
   "display_name": "Python 3 (ipykernel)",
   "language": "python",
   "name": "python3"
  },
  "language_info": {
   "codemirror_mode": {
    "name": "ipython",
    "version": 3
   },
   "file_extension": ".py",
   "mimetype": "text/x-python",
   "name": "python",
   "nbconvert_exporter": "python",
   "pygments_lexer": "ipython3",
   "version": "3.8.5"
  }
 },
 "nbformat": 4,
 "nbformat_minor": 4
}
